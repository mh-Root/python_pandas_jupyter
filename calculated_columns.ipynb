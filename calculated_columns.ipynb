{
 "cells": [
  {
   "cell_type": "markdown",
   "metadata": {},
   "source": [
    "__pandas - výpočty v řádcích a sloupcích__"
   ]
  },
  {
   "cell_type": "code",
   "execution_count": 1,
   "metadata": {},
   "outputs": [],
   "source": [
    "import pandas as pd"
   ]
  },
  {
   "cell_type": "markdown",
   "metadata": {},
   "source": [
    "__Věkové kategorie v ČR__"
   ]
  },
  {
   "cell_type": "code",
   "execution_count": 2,
   "metadata": {},
   "outputs": [
    {
     "data": {
      "text/html": [
       "<div>\n",
       "<style scoped>\n",
       "    .dataframe tbody tr th:only-of-type {\n",
       "        vertical-align: middle;\n",
       "    }\n",
       "\n",
       "    .dataframe tbody tr th {\n",
       "        vertical-align: top;\n",
       "    }\n",
       "\n",
       "    .dataframe thead th {\n",
       "        text-align: right;\n",
       "    }\n",
       "</style>\n",
       "<table border=\"1\" class=\"dataframe\">\n",
       "  <thead>\n",
       "    <tr style=\"text-align: right;\">\n",
       "      <th></th>\n",
       "      <th>0 - 14</th>\n",
       "      <th>15 - 64</th>\n",
       "      <th>65 +</th>\n",
       "    </tr>\n",
       "    <tr>\n",
       "      <th>Rok</th>\n",
       "      <th></th>\n",
       "      <th></th>\n",
       "      <th></th>\n",
       "    </tr>\n",
       "  </thead>\n",
       "  <tbody>\n",
       "    <tr>\n",
       "      <td>2010</td>\n",
       "      <td>1518142</td>\n",
       "      <td>7378802</td>\n",
       "      <td>1635826</td>\n",
       "    </tr>\n",
       "    <tr>\n",
       "      <td>2012</td>\n",
       "      <td>1560296</td>\n",
       "      <td>7188211</td>\n",
       "      <td>1767618</td>\n",
       "    </tr>\n",
       "    <tr>\n",
       "      <td>2013</td>\n",
       "      <td>1577455</td>\n",
       "      <td>7109420</td>\n",
       "      <td>1825544</td>\n",
       "    </tr>\n",
       "    <tr>\n",
       "      <td>2014</td>\n",
       "      <td>1601045</td>\n",
       "      <td>7056824</td>\n",
       "      <td>1880406</td>\n",
       "    </tr>\n",
       "    <tr>\n",
       "      <td>2015</td>\n",
       "      <td>1623716</td>\n",
       "      <td>6997715</td>\n",
       "      <td>1932412</td>\n",
       "    </tr>\n",
       "    <tr>\n",
       "      <td>2016</td>\n",
       "      <td>1647275</td>\n",
       "      <td>6942623</td>\n",
       "      <td>1988922</td>\n",
       "    </tr>\n",
       "    <tr>\n",
       "      <td>2017</td>\n",
       "      <td>1670677</td>\n",
       "      <td>6899195</td>\n",
       "      <td>2040183</td>\n",
       "    </tr>\n",
       "    <tr>\n",
       "      <td>2018</td>\n",
       "      <td>1693060</td>\n",
       "      <td>6870123</td>\n",
       "      <td>2086617</td>\n",
       "    </tr>\n",
       "  </tbody>\n",
       "</table>\n",
       "</div>"
      ],
      "text/plain": [
       "       0 - 14  15 - 64     65 +\n",
       "Rok                            \n",
       "2010  1518142  7378802  1635826\n",
       "2012  1560296  7188211  1767618\n",
       "2013  1577455  7109420  1825544\n",
       "2014  1601045  7056824  1880406\n",
       "2015  1623716  6997715  1932412\n",
       "2016  1647275  6942623  1988922\n",
       "2017  1670677  6899195  2040183\n",
       "2018  1693060  6870123  2086617"
      ]
     },
     "execution_count": 2,
     "metadata": {},
     "output_type": "execute_result"
    }
   ],
   "source": [
    "vek = pd.read_excel('../data/vekova_skupina.xlsx')\n",
    "vek.set_index('Rok',inplace=True)\n",
    "vek"
   ]
  },
  {
   "cell_type": "code",
   "execution_count": 3,
   "metadata": {},
   "outputs": [
    {
     "data": {
      "text/plain": [
       "1518142"
      ]
     },
     "execution_count": 3,
     "metadata": {},
     "output_type": "execute_result"
    }
   ],
   "source": [
    "# výběr 'Rok', 'Věk 0 - 14 let'\n",
    "vek.loc[2010,'0 - 14']"
   ]
  },
  {
   "cell_type": "code",
   "execution_count": 4,
   "metadata": {},
   "outputs": [
    {
     "data": {
      "text/plain": [
       "0 - 14     1518142\n",
       "15 - 64    7378802\n",
       "65 +       1635826\n",
       "Name: 2010, dtype: int64"
      ]
     },
     "execution_count": 4,
     "metadata": {},
     "output_type": "execute_result"
    }
   ],
   "source": [
    "# výběr 'Rok', 'Všechny věkové kategorie'\n",
    "vek.loc[2010,:,]"
   ]
  },
  {
   "cell_type": "markdown",
   "metadata": {},
   "source": [
    "__Výpočty: Procentuální zastoupení jednotlivých věkových kategorií__"
   ]
  },
  {
   "cell_type": "code",
   "execution_count": 5,
   "metadata": {},
   "outputs": [
    {
     "data": {
      "text/html": [
       "<div>\n",
       "<style scoped>\n",
       "    .dataframe tbody tr th:only-of-type {\n",
       "        vertical-align: middle;\n",
       "    }\n",
       "\n",
       "    .dataframe tbody tr th {\n",
       "        vertical-align: top;\n",
       "    }\n",
       "\n",
       "    .dataframe thead th {\n",
       "        text-align: right;\n",
       "    }\n",
       "</style>\n",
       "<table border=\"1\" class=\"dataframe\">\n",
       "  <thead>\n",
       "    <tr style=\"text-align: right;\">\n",
       "      <th></th>\n",
       "      <th>0 - 14</th>\n",
       "      <th>15 - 64</th>\n",
       "      <th>65 +</th>\n",
       "    </tr>\n",
       "    <tr>\n",
       "      <th>Rok</th>\n",
       "      <th></th>\n",
       "      <th></th>\n",
       "      <th></th>\n",
       "    </tr>\n",
       "  </thead>\n",
       "  <tbody>\n",
       "    <tr>\n",
       "      <td>2010</td>\n",
       "      <td>14.413511</td>\n",
       "      <td>70.055664</td>\n",
       "      <td>15.530824</td>\n",
       "    </tr>\n",
       "    <tr>\n",
       "      <td>2012</td>\n",
       "      <td>14.813729</td>\n",
       "      <td>68.246159</td>\n",
       "      <td>16.782081</td>\n",
       "    </tr>\n",
       "    <tr>\n",
       "      <td>2013</td>\n",
       "      <td>14.976640</td>\n",
       "      <td>67.498104</td>\n",
       "      <td>17.332041</td>\n",
       "    </tr>\n",
       "    <tr>\n",
       "      <td>2014</td>\n",
       "      <td>15.200607</td>\n",
       "      <td>66.998748</td>\n",
       "      <td>17.852910</td>\n",
       "    </tr>\n",
       "    <tr>\n",
       "      <td>2015</td>\n",
       "      <td>15.415850</td>\n",
       "      <td>66.437556</td>\n",
       "      <td>18.346665</td>\n",
       "    </tr>\n",
       "    <tr>\n",
       "      <td>2016</td>\n",
       "      <td>15.639523</td>\n",
       "      <td>65.914503</td>\n",
       "      <td>18.883181</td>\n",
       "    </tr>\n",
       "    <tr>\n",
       "      <td>2017</td>\n",
       "      <td>15.861706</td>\n",
       "      <td>65.502190</td>\n",
       "      <td>19.369862</td>\n",
       "    </tr>\n",
       "    <tr>\n",
       "      <td>2018</td>\n",
       "      <td>16.074214</td>\n",
       "      <td>65.226175</td>\n",
       "      <td>19.810715</td>\n",
       "    </tr>\n",
       "  </tbody>\n",
       "</table>\n",
       "</div>"
      ],
      "text/plain": [
       "         0 - 14    15 - 64       65 +\n",
       "Rok                                  \n",
       "2010  14.413511  70.055664  15.530824\n",
       "2012  14.813729  68.246159  16.782081\n",
       "2013  14.976640  67.498104  17.332041\n",
       "2014  15.200607  66.998748  17.852910\n",
       "2015  15.415850  66.437556  18.346665\n",
       "2016  15.639523  65.914503  18.883181\n",
       "2017  15.861706  65.502190  19.369862\n",
       "2018  16.074214  65.226175  19.810715"
      ]
     },
     "execution_count": 5,
     "metadata": {},
     "output_type": "execute_result"
    }
   ],
   "source": [
    "proc = vek.div(vek.loc[2010,:,].sum()/100,0)\n",
    "proc"
   ]
  },
  {
   "cell_type": "markdown",
   "metadata": {},
   "source": [
    "__Výpočty: Přehled počtu obyvatel__"
   ]
  },
  {
   "cell_type": "code",
   "execution_count": 6,
   "metadata": {},
   "outputs": [
    {
     "data": {
      "text/html": [
       "<div>\n",
       "<style scoped>\n",
       "    .dataframe tbody tr th:only-of-type {\n",
       "        vertical-align: middle;\n",
       "    }\n",
       "\n",
       "    .dataframe tbody tr th {\n",
       "        vertical-align: top;\n",
       "    }\n",
       "\n",
       "    .dataframe thead th {\n",
       "        text-align: right;\n",
       "    }\n",
       "</style>\n",
       "<table border=\"1\" class=\"dataframe\">\n",
       "  <thead>\n",
       "    <tr style=\"text-align: right;\">\n",
       "      <th></th>\n",
       "      <th>0 - 14</th>\n",
       "      <th>15 - 64</th>\n",
       "      <th>65 +</th>\n",
       "      <th>Obyvatel celkem</th>\n",
       "    </tr>\n",
       "    <tr>\n",
       "      <th>Rok</th>\n",
       "      <th></th>\n",
       "      <th></th>\n",
       "      <th></th>\n",
       "      <th></th>\n",
       "    </tr>\n",
       "  </thead>\n",
       "  <tbody>\n",
       "    <tr>\n",
       "      <td>2010</td>\n",
       "      <td>1518142</td>\n",
       "      <td>7378802</td>\n",
       "      <td>1635826</td>\n",
       "      <td>10532770</td>\n",
       "    </tr>\n",
       "    <tr>\n",
       "      <td>2012</td>\n",
       "      <td>1560296</td>\n",
       "      <td>7188211</td>\n",
       "      <td>1767618</td>\n",
       "      <td>10516125</td>\n",
       "    </tr>\n",
       "    <tr>\n",
       "      <td>2013</td>\n",
       "      <td>1577455</td>\n",
       "      <td>7109420</td>\n",
       "      <td>1825544</td>\n",
       "      <td>10512419</td>\n",
       "    </tr>\n",
       "    <tr>\n",
       "      <td>2014</td>\n",
       "      <td>1601045</td>\n",
       "      <td>7056824</td>\n",
       "      <td>1880406</td>\n",
       "      <td>10538275</td>\n",
       "    </tr>\n",
       "    <tr>\n",
       "      <td>2015</td>\n",
       "      <td>1623716</td>\n",
       "      <td>6997715</td>\n",
       "      <td>1932412</td>\n",
       "      <td>10553843</td>\n",
       "    </tr>\n",
       "    <tr>\n",
       "      <td>2016</td>\n",
       "      <td>1647275</td>\n",
       "      <td>6942623</td>\n",
       "      <td>1988922</td>\n",
       "      <td>10578820</td>\n",
       "    </tr>\n",
       "    <tr>\n",
       "      <td>2017</td>\n",
       "      <td>1670677</td>\n",
       "      <td>6899195</td>\n",
       "      <td>2040183</td>\n",
       "      <td>10610055</td>\n",
       "    </tr>\n",
       "    <tr>\n",
       "      <td>2018</td>\n",
       "      <td>1693060</td>\n",
       "      <td>6870123</td>\n",
       "      <td>2086617</td>\n",
       "      <td>10649800</td>\n",
       "    </tr>\n",
       "  </tbody>\n",
       "</table>\n",
       "</div>"
      ],
      "text/plain": [
       "       0 - 14  15 - 64     65 +  Obyvatel celkem\n",
       "Rok                                             \n",
       "2010  1518142  7378802  1635826         10532770\n",
       "2012  1560296  7188211  1767618         10516125\n",
       "2013  1577455  7109420  1825544         10512419\n",
       "2014  1601045  7056824  1880406         10538275\n",
       "2015  1623716  6997715  1932412         10553843\n",
       "2016  1647275  6942623  1988922         10578820\n",
       "2017  1670677  6899195  2040183         10610055\n",
       "2018  1693060  6870123  2086617         10649800"
      ]
     },
     "execution_count": 6,
     "metadata": {},
     "output_type": "execute_result"
    }
   ],
   "source": [
    "vek['Obyvatel celkem'] = vek.sum(axis=1)\n",
    "vek"
   ]
  },
  {
   "cell_type": "code",
   "execution_count": 7,
   "metadata": {},
   "outputs": [
    {
     "data": {
      "text/plain": [
       "Rok\n",
       "2010    1518142\n",
       "2012    1560296\n",
       "2013    1577455\n",
       "2014    1601045\n",
       "2015    1623716\n",
       "2016    1647275\n",
       "2017    1670677\n",
       "2018    1693060\n",
       "Name: 0 - 14, dtype: int64"
      ]
     },
     "execution_count": 7,
     "metadata": {},
     "output_type": "execute_result"
    }
   ],
   "source": [
    "# věk 0 - 14 let za všechny sledované roky\n",
    "vek.loc[:,'0 - 14']"
   ]
  }
 ],
 "metadata": {
  "kernelspec": {
   "display_name": "Python 3",
   "language": "python",
   "name": "python3"
  },
  "language_info": {
   "codemirror_mode": {
    "name": "ipython",
    "version": 3
   },
   "file_extension": ".py",
   "mimetype": "text/x-python",
   "name": "python",
   "nbconvert_exporter": "python",
   "pygments_lexer": "ipython3",
   "version": "3.7.4"
  }
 },
 "nbformat": 4,
 "nbformat_minor": 2
}
