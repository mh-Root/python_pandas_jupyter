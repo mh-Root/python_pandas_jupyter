{
 "cells": [
  {
   "cell_type": "markdown",
   "metadata": {},
   "source": [
    "__pandas tutorial 1__"
   ]
  },
  {
   "cell_type": "code",
   "execution_count": null,
   "metadata": {},
   "outputs": [],
   "source": [
    "# import Pandas, Python sys, Python Matplotlib\n",
    "import pandas as pd\n",
    "import sys\n",
    "import matplotlib.pyplot as plt"
   ]
  },
  {
   "cell_type": "markdown",
   "metadata": {},
   "source": [
    "`Vytvoření dat`"
   ]
  },
  {
   "cell_type": "code",
   "execution_count": null,
   "metadata": {},
   "outputs": [],
   "source": [
    "# initial set\n",
    "names = ['Marie', 'Jiří', 'Jan', 'Jana', 'Petr', 'Pavel', 'Jaroslav']\n",
    "count = [316559, 315969, 295627, 275141, 272837, 207100, 198664]"
   ]
  },
  {
   "cell_type": "markdown",
   "metadata": {},
   "source": [
    "merge lists together we will use the zip function"
   ]
  },
  {
   "cell_type": "code",
   "execution_count": null,
   "metadata": {},
   "outputs": [],
   "source": [
    "dataset1 = list(zip(names, count))\n",
    "print(dataset1)"
   ]
  },
  {
   "cell_type": "markdown",
   "metadata": {},
   "source": [
    "`pandas DataFrame`"
   ]
  },
  {
   "cell_type": "code",
   "execution_count": null,
   "metadata": {},
   "outputs": [],
   "source": [
    "# df1 = DataFrame object\n",
    "jmena = pd.DataFrame(data = dataset1, columns = ['Jméno', 'Počet'])\n",
    "jmena"
   ]
  },
  {
   "cell_type": "markdown",
   "metadata": {},
   "source": [
    "`Export data do souboru csv`"
   ]
  },
  {
   "cell_type": "code",
   "execution_count": null,
   "metadata": {},
   "outputs": [],
   "source": [
    "# data_frame_name.to_csv\n",
    "jmena.to_csv('../data/jmena.csv', index = False, header = False)"
   ]
  },
  {
   "cell_type": "code",
   "execution_count": null,
   "metadata": {},
   "outputs": [],
   "source": [
    "# Pandas function read_csv\n",
    "pd.read_csv?"
   ]
  },
  {
   "cell_type": "code",
   "execution_count": null,
   "metadata": {},
   "outputs": [],
   "source": [
    "# read data from csv file - Pandas function read_csv\n",
    "location = '../data/jmena.csv'\n",
    "jmena = pd.read_csv(location, names=['Jméno','Počet'])\n"
   ]
  },
  {
   "cell_type": "code",
   "execution_count": null,
   "metadata": {},
   "outputs": [],
   "source": [
    "jmena"
   ]
  },
  {
   "cell_type": "code",
   "execution_count": null,
   "metadata": {},
   "outputs": [],
   "source": [
    "# check data type of the columns\n",
    "jmena.dtypes"
   ]
  },
  {
   "cell_type": "code",
   "execution_count": null,
   "metadata": {},
   "outputs": [],
   "source": [
    "# check data type of Births column\n",
    "jmena.Počet.dtype"
   ]
  },
  {
   "cell_type": "markdown",
   "metadata": {},
   "source": [
    "Analyze data\n",
    "Method 1: sort the dataframe and select the top row - dataset_name.sort_values()\n",
    "Method 2: use the max() attribute to find the maximum value"
   ]
  },
  {
   "cell_type": "code",
   "execution_count": null,
   "metadata": {},
   "outputs": [],
   "source": [
    "# Method 1\n",
    "# ascending = False (highest value)\n",
    "sorted1 = jmena.sort_values(['Počet'], ascending = False)"
   ]
  },
  {
   "cell_type": "code",
   "execution_count": null,
   "metadata": {},
   "outputs": [],
   "source": [
    "# head(1) = only 1 column\n",
    "sorted1.head(1)"
   ]
  },
  {
   "cell_type": "code",
   "execution_count": null,
   "metadata": {},
   "outputs": [],
   "source": [
    "# ascending = True (lowest value)\n",
    "sorted1 = jmena.sort_values(['Počet'], ascending = True)"
   ]
  },
  {
   "cell_type": "code",
   "execution_count": null,
   "metadata": {},
   "outputs": [],
   "source": [
    "sorted1.head(1)"
   ]
  },
  {
   "cell_type": "code",
   "execution_count": null,
   "metadata": {},
   "outputs": [],
   "source": [
    "# Method 2\n",
    "jmena['Počet'].max()"
   ]
  },
  {
   "cell_type": "markdown",
   "metadata": {},
   "source": [
    "__Matplotlib__"
   ]
  },
  {
   "cell_type": "code",
   "execution_count": null,
   "metadata": {},
   "outputs": [],
   "source": [
    "# create graph by plot() method\n",
    "jmena['Počet'].plot()\n",
    "\n",
    "# maximum value in dataset\n",
    "MaxValue = jmena['Počet'].max()\n",
    "\n",
    "# name associated with the maximum value\n",
    "MaxName = jmena['Jméno'][jmena['Počet'] == jmena['Počet'].max()].values\n",
    "\n",
    "# text to display om graph\n",
    "Text = str(MaxValue) + ' ' + MaxName\n",
    "\n",
    "# add text to graph\n",
    "plt.annotate(Text, xy=(1, MaxValue), xytext=(8, 0), xycoords=('axes fraction', 'data'), textcoords='offset points')\n",
    "\n",
    "# print graph\n",
    "print(\"Nejpopulárnější jména\")\n",
    "jmena[jmena['Počet'] == jmena['Počet'].max()]\n",
    "\n",
    "# sorted.head(1) can also be used"
   ]
  },
  {
   "cell_type": "code",
   "execution_count": null,
   "metadata": {},
   "outputs": [],
   "source": []
  }
 ],
 "metadata": {
  "kernelspec": {
   "display_name": "Python 3",
   "language": "python",
   "name": "python3"
  },
  "language_info": {
   "codemirror_mode": {
    "name": "ipython",
    "version": 3
   },
   "file_extension": ".py",
   "mimetype": "text/x-python",
   "name": "python",
   "nbconvert_exporter": "python",
   "pygments_lexer": "ipython3",
   "version": "3.7.4"
  }
 },
 "nbformat": 4,
 "nbformat_minor": 4
}
