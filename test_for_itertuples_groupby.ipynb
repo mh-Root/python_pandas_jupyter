{
 "cells": [
  {
   "cell_type": "markdown",
   "metadata": {},
   "source": [
    "### Test: itertuples(), groupby(), get_group()"
   ]
  },
  {
   "cell_type": "code",
   "execution_count": 2,
   "metadata": {},
   "outputs": [],
   "source": [
    "import pandas as pd"
   ]
  },
  {
   "cell_type": "code",
   "execution_count": 3,
   "metadata": {},
   "outputs": [],
   "source": [
    "df = pd.read_csv('../data/test_obce.csv',delimiter=';')"
   ]
  },
  {
   "cell_type": "code",
   "execution_count": 4,
   "metadata": {},
   "outputs": [
    {
     "data": {
      "text/html": [
       "<div>\n",
       "<style scoped>\n",
       "    .dataframe tbody tr th:only-of-type {\n",
       "        vertical-align: middle;\n",
       "    }\n",
       "\n",
       "    .dataframe tbody tr th {\n",
       "        vertical-align: top;\n",
       "    }\n",
       "\n",
       "    .dataframe thead th {\n",
       "        text-align: right;\n",
       "    }\n",
       "</style>\n",
       "<table border=\"1\" class=\"dataframe\">\n",
       "  <thead>\n",
       "    <tr style=\"text-align: right;\">\n",
       "      <th></th>\n",
       "      <th>obec</th>\n",
       "      <th>okres</th>\n",
       "    </tr>\n",
       "  </thead>\n",
       "  <tbody>\n",
       "    <tr>\n",
       "      <th>0</th>\n",
       "      <td>Hořice</td>\n",
       "      <td>Jičín</td>\n",
       "    </tr>\n",
       "    <tr>\n",
       "      <th>1</th>\n",
       "      <td>Hořovice</td>\n",
       "      <td>Beroun</td>\n",
       "    </tr>\n",
       "    <tr>\n",
       "      <th>2</th>\n",
       "      <td>Hostomice</td>\n",
       "      <td>Beroun</td>\n",
       "    </tr>\n",
       "    <tr>\n",
       "      <th>3</th>\n",
       "      <td>Hředle</td>\n",
       "      <td>Beroun</td>\n",
       "    </tr>\n",
       "    <tr>\n",
       "      <th>4</th>\n",
       "      <td>Hudlice</td>\n",
       "      <td>Beroun</td>\n",
       "    </tr>\n",
       "  </tbody>\n",
       "</table>\n",
       "</div>"
      ],
      "text/plain": [
       "        obec   okres\n",
       "0     Hořice   Jičín\n",
       "1   Hořovice  Beroun\n",
       "2  Hostomice  Beroun\n",
       "3     Hředle  Beroun\n",
       "4    Hudlice  Beroun"
      ]
     },
     "execution_count": 4,
     "metadata": {},
     "output_type": "execute_result"
    }
   ],
   "source": [
    "df.head()"
   ]
  },
  {
   "cell_type": "code",
   "execution_count": 5,
   "metadata": {},
   "outputs": [
    {
     "name": "stdout",
     "output_type": "stream",
     "text": [
      "Pandas(Index=0, obec='Hořice', okres='Jičín')\n",
      "Pandas(Index=1, obec='Hořovice', okres='Beroun')\n",
      "Pandas(Index=2, obec='Hostomice', okres='Beroun')\n",
      "Pandas(Index=3, obec='Hředle', okres='Beroun')\n",
      "Pandas(Index=4, obec='Hudlice', okres='Beroun')\n"
     ]
    }
   ],
   "source": [
    "for i in df.head().itertuples(): \n",
    "    print(i) "
   ]
  },
  {
   "cell_type": "code",
   "execution_count": 6,
   "metadata": {},
   "outputs": [
    {
     "name": "stdout",
     "output_type": "stream",
     "text": [
      "0 Hořice Jičín\n",
      "1 Hořovice Beroun\n",
      "2 Hostomice Beroun\n",
      "3 Hředle Beroun\n",
      "4 Hudlice Beroun\n"
     ]
    }
   ],
   "source": [
    "for row in df.head().itertuples():\n",
    "    print(row.Index, row.obec, row.okres)"
   ]
  },
  {
   "cell_type": "code",
   "execution_count": 7,
   "metadata": {},
   "outputs": [
    {
     "name": "stdout",
     "output_type": "stream",
     "text": [
      "Hořice Jičín\n",
      "Hořovice Beroun\n",
      "Hostomice Beroun\n",
      "Hředle Beroun\n",
      "Hudlice Beroun\n"
     ]
    }
   ],
   "source": [
    "for row in df.head().itertuples(index=True, name='Pandas'):\n",
    "    print (getattr(row, \"obec\"), getattr(row, \"okres\"))"
   ]
  },
  {
   "cell_type": "code",
   "execution_count": 21,
   "metadata": {},
   "outputs": [
    {
     "data": {
      "text/plain": [
       "{'Benešov': Int64Index([12, 13, 14, 15, 52, 53, 54, 55, 56, 57, 58, 59, 62, 63, 64, 77,\n",
       "             78],\n",
       "            dtype='int64'),\n",
       " 'Beroun': Int64Index([ 1,  2,  3,  4, 16, 17, 18, 19, 20, 21, 22, 23, 24, 25, 26, 27, 28,\n",
       "             29, 30, 31, 32, 60, 61],\n",
       "            dtype='int64'),\n",
       " 'Jičín': Int64Index([ 0,  5,  6,  7,  8,  9, 10, 11, 33, 34, 35, 36, 37, 38, 39, 40, 41,\n",
       "             42, 43, 44, 45, 46, 47, 48, 49, 50, 51, 65, 66, 67, 68, 69, 70, 71,\n",
       "             72, 73, 74, 75, 76],\n",
       "            dtype='int64')}"
      ]
     },
     "execution_count": 21,
     "metadata": {},
     "output_type": "execute_result"
    }
   ],
   "source": [
    "df.groupby('okres').groups"
   ]
  },
  {
   "cell_type": "code",
   "execution_count": 22,
   "metadata": {},
   "outputs": [
    {
     "data": {
      "text/plain": [
       "{('Benešov', 'Benešov'): Int64Index([52], dtype='int64'),\n",
       " ('Benešov', 'Bernartice'): Int64Index([53], dtype='int64'),\n",
       " ('Benešov', 'Blažejovice'): Int64Index([55], dtype='int64'),\n",
       " ('Benešov', 'Borovnice'): Int64Index([56], dtype='int64'),\n",
       " ('Benešov', 'Bukovany'): Int64Index([57], dtype='int64'),\n",
       " ('Benešov', 'Bystřice'): Int64Index([58], dtype='int64'),\n",
       " ('Benešov', 'Bílkovice'): Int64Index([54], dtype='int64'),\n",
       " ('Benešov', 'Ctiboř'): Int64Index([59], dtype='int64'),\n",
       " ('Benešov', 'Divišov'): Int64Index([78], dtype='int64'),\n",
       " ('Benešov', 'Dolní Kralovice'): Int64Index([15], dtype='int64'),\n",
       " ('Benešov', 'Děkanovice'): Int64Index([77], dtype='int64'),\n",
       " ('Benešov', 'Čakov'): Int64Index([62], dtype='int64'),\n",
       " ('Benešov', 'Čechtice'): Int64Index([63], dtype='int64'),\n",
       " ('Benešov', 'Červený Újezd'): Int64Index([12], dtype='int64'),\n",
       " ('Benešov', 'Čerčany'): Int64Index([64], dtype='int64'),\n",
       " ('Benešov', 'Český Šternberk'): Int64Index([13], dtype='int64'),\n",
       " ('Benešov', 'Čtyřkoly'): Int64Index([14], dtype='int64'),\n",
       " ('Beroun', 'Broumy'): Int64Index([16], dtype='int64'),\n",
       " ('Beroun', 'Bubovice'): Int64Index([18], dtype='int64'),\n",
       " ('Beroun', 'Bykoš'): Int64Index([19], dtype='int64'),\n",
       " ('Beroun', 'Bzová'): Int64Index([20], dtype='int64'),\n",
       " ('Beroun', 'Březová'): Int64Index([17], dtype='int64'),\n",
       " ('Beroun', 'Cerhovice'): Int64Index([21], dtype='int64'),\n",
       " ('Beroun', 'Chaloupky'): Int64Index([27], dtype='int64'),\n",
       " ('Beroun', 'Chlustina'): Int64Index([28], dtype='int64'),\n",
       " ('Beroun', 'Chodouň'): Int64Index([29], dtype='int64'),\n",
       " ('Beroun', 'Chrustenice'): Int64Index([30], dtype='int64'),\n",
       " ('Beroun', 'Chyňava'): Int64Index([31], dtype='int64'),\n",
       " ('Beroun', 'Drozdov'): Int64Index([22], dtype='int64'),\n",
       " ('Beroun', 'Felbabka'): Int64Index([23], dtype='int64'),\n",
       " ('Beroun', 'Hlásná Třebaň'): Int64Index([24], dtype='int64'),\n",
       " ('Beroun', 'Hostomice'): Int64Index([2], dtype='int64'),\n",
       " ('Beroun', 'Hořovice'): Int64Index([1], dtype='int64'),\n",
       " ('Beroun', 'Hudlice'): Int64Index([4], dtype='int64'),\n",
       " ('Beroun', 'Hvozdec'): Int64Index([25], dtype='int64'),\n",
       " ('Beroun', 'Hýskov'): Int64Index([26], dtype='int64'),\n",
       " ('Beroun', 'Hředle'): Int64Index([3], dtype='int64'),\n",
       " ('Beroun', 'Jivina'): Int64Index([60], dtype='int64'),\n",
       " ('Beroun', 'Karlštejn'): Int64Index([61], dtype='int64'),\n",
       " ('Beroun', 'Komárov'): Int64Index([32], dtype='int64'),\n",
       " ('Jičín', 'Boháňka'): Int64Index([33], dtype='int64'),\n",
       " ('Jičín', 'Borek'): Int64Index([34], dtype='int64'),\n",
       " ('Jičín', 'Brada-Rybníček'): Int64Index([35], dtype='int64'),\n",
       " ('Jičín', 'Budčeves'): Int64Index([38], dtype='int64'),\n",
       " ('Jičín', 'Bukvice'): Int64Index([39], dtype='int64'),\n",
       " ('Jičín', 'Butoves'): Int64Index([40], dtype='int64'),\n",
       " ('Jičín', 'Bystřice'): Int64Index([41], dtype='int64'),\n",
       " ('Jičín', 'Březina'): Int64Index([36], dtype='int64'),\n",
       " ('Jičín', 'Bříšťany'): Int64Index([37], dtype='int64'),\n",
       " ('Jičín', 'Cerekvice nad Bystřicí'): Int64Index([42], dtype='int64'),\n",
       " ('Jičín', 'Cholenice'): Int64Index([5], dtype='int64'),\n",
       " ('Jičín', 'Chomutice'): Int64Index([6], dtype='int64'),\n",
       " ('Jičín', 'Choteč'): Int64Index([7], dtype='int64'),\n",
       " ('Jičín', 'Chyjice'): Int64Index([8], dtype='int64'),\n",
       " ('Jičín', 'Dobrá Voda u Hořic'): Int64Index([47], dtype='int64'),\n",
       " ('Jičín', 'Dolní Lochov'): Int64Index([48], dtype='int64'),\n",
       " ('Jičín', 'Dílce'): Int64Index([46], dtype='int64'),\n",
       " ('Jičín', 'Dětenice'): Int64Index([45], dtype='int64'),\n",
       " ('Jičín', 'Dřevěnice'): Int64Index([49], dtype='int64'),\n",
       " ('Jičín', 'Holovousy'): Int64Index([51], dtype='int64'),\n",
       " ('Jičín', 'Holín'): Int64Index([50], dtype='int64'),\n",
       " ('Jičín', 'Hořice'): Int64Index([0], dtype='int64'),\n",
       " ('Jičín', 'Jeřice'): Int64Index([9], dtype='int64'),\n",
       " ('Jičín', 'Jinolice'): Int64Index([65], dtype='int64'),\n",
       " ('Jičín', 'Jičín'): Int64Index([10], dtype='int64'),\n",
       " ('Jičín', 'Jičíněves'): Int64Index([11], dtype='int64'),\n",
       " ('Jičín', 'Kacákova Lhota'): Int64Index([66], dtype='int64'),\n",
       " ('Jičín', 'Kbelnice'): Int64Index([67], dtype='int64'),\n",
       " ('Jičín', 'Kněžnice'): Int64Index([68], dtype='int64'),\n",
       " ('Jičín', 'Konecchlumí'): Int64Index([69], dtype='int64'),\n",
       " ('Jičín', 'Kopidlno'): Int64Index([70], dtype='int64'),\n",
       " ('Jičín', 'Kostelec'): Int64Index([71], dtype='int64'),\n",
       " ('Jičín', 'Kovač'): Int64Index([72], dtype='int64'),\n",
       " ('Jičín', 'Kozojedy'): Int64Index([73], dtype='int64'),\n",
       " ('Jičín', 'Kyje'): Int64Index([74], dtype='int64'),\n",
       " ('Jičín', 'Libáň'): Int64Index([76], dtype='int64'),\n",
       " ('Jičín', 'Lázně Bělohrad'): Int64Index([75], dtype='int64'),\n",
       " ('Jičín', 'Červená Třemešná'): Int64Index([43], dtype='int64'),\n",
       " ('Jičín', 'Češov'): Int64Index([44], dtype='int64')}"
      ]
     },
     "execution_count": 22,
     "metadata": {},
     "output_type": "execute_result"
    }
   ],
   "source": [
    "df.groupby(['okres','obec']).groups"
   ]
  },
  {
   "cell_type": "code",
   "execution_count": 43,
   "metadata": {},
   "outputs": [
    {
     "name": "stdout",
     "output_type": "stream",
     "text": [
      "Benešov\n",
      "               obec    okres\n",
      "12    Červený Újezd  Benešov\n",
      "13  Český Šternberk  Benešov\n",
      "14         Čtyřkoly  Benešov\n",
      "15  Dolní Kralovice  Benešov\n",
      "52          Benešov  Benešov\n",
      "53       Bernartice  Benešov\n",
      "54        Bílkovice  Benešov\n",
      "55      Blažejovice  Benešov\n",
      "56        Borovnice  Benešov\n",
      "57         Bukovany  Benešov\n",
      "58         Bystřice  Benešov\n",
      "59           Ctiboř  Benešov\n",
      "62            Čakov  Benešov\n",
      "63         Čechtice  Benešov\n",
      "64          Čerčany  Benešov\n",
      "77       Děkanovice  Benešov\n",
      "78          Divišov  Benešov\n",
      "Beroun\n",
      "             obec   okres\n",
      "1        Hořovice  Beroun\n",
      "2       Hostomice  Beroun\n",
      "3          Hředle  Beroun\n",
      "4         Hudlice  Beroun\n",
      "16         Broumy  Beroun\n",
      "17        Březová  Beroun\n",
      "18       Bubovice  Beroun\n",
      "19          Bykoš  Beroun\n",
      "20          Bzová  Beroun\n",
      "21      Cerhovice  Beroun\n",
      "22        Drozdov  Beroun\n",
      "23       Felbabka  Beroun\n",
      "24  Hlásná Třebaň  Beroun\n",
      "25        Hvozdec  Beroun\n",
      "26         Hýskov  Beroun\n",
      "27      Chaloupky  Beroun\n",
      "28      Chlustina  Beroun\n",
      "29        Chodouň  Beroun\n",
      "30    Chrustenice  Beroun\n",
      "31        Chyňava  Beroun\n",
      "32        Komárov  Beroun\n",
      "60         Jivina  Beroun\n",
      "61      Karlštejn  Beroun\n",
      "Jičín\n",
      "                      obec  okres\n",
      "0                   Hořice  Jičín\n",
      "5                Cholenice  Jičín\n",
      "6                Chomutice  Jičín\n",
      "7                   Choteč  Jičín\n",
      "8                  Chyjice  Jičín\n",
      "9                   Jeřice  Jičín\n",
      "10                   Jičín  Jičín\n",
      "11               Jičíněves  Jičín\n",
      "33                 Boháňka  Jičín\n",
      "34                   Borek  Jičín\n",
      "35          Brada-Rybníček  Jičín\n",
      "36                 Březina  Jičín\n",
      "37                Bříšťany  Jičín\n",
      "38                Budčeves  Jičín\n",
      "39                 Bukvice  Jičín\n",
      "40                 Butoves  Jičín\n",
      "41                Bystřice  Jičín\n",
      "42  Cerekvice nad Bystřicí  Jičín\n",
      "43        Červená Třemešná  Jičín\n",
      "44                   Češov  Jičín\n",
      "45                Dětenice  Jičín\n",
      "46                   Dílce  Jičín\n",
      "47      Dobrá Voda u Hořic  Jičín\n",
      "48            Dolní Lochov  Jičín\n",
      "49               Dřevěnice  Jičín\n",
      "50                   Holín  Jičín\n",
      "51               Holovousy  Jičín\n",
      "65                Jinolice  Jičín\n",
      "66          Kacákova Lhota  Jičín\n",
      "67                Kbelnice  Jičín\n",
      "68                Kněžnice  Jičín\n",
      "69             Konecchlumí  Jičín\n",
      "70                Kopidlno  Jičín\n",
      "71                Kostelec  Jičín\n",
      "72                   Kovač  Jičín\n",
      "73                Kozojedy  Jičín\n",
      "74                    Kyje  Jičín\n",
      "75          Lázně Bělohrad  Jičín\n",
      "76                   Libáň  Jičín\n"
     ]
    }
   ],
   "source": [
    "grouped = df.groupby('okres')\n",
    "for name,group in grouped:\n",
    "   print(name)\n",
    "   print(group)"
   ]
  },
  {
   "cell_type": "markdown",
   "metadata": {},
   "source": [
    "__get_group()__"
   ]
  },
  {
   "cell_type": "code",
   "execution_count": 38,
   "metadata": {},
   "outputs": [
    {
     "data": {
      "text/html": [
       "<div>\n",
       "<style scoped>\n",
       "    .dataframe tbody tr th:only-of-type {\n",
       "        vertical-align: middle;\n",
       "    }\n",
       "\n",
       "    .dataframe tbody tr th {\n",
       "        vertical-align: top;\n",
       "    }\n",
       "\n",
       "    .dataframe thead th {\n",
       "        text-align: right;\n",
       "    }\n",
       "</style>\n",
       "<table border=\"1\" class=\"dataframe\">\n",
       "  <thead>\n",
       "    <tr style=\"text-align: right;\">\n",
       "      <th></th>\n",
       "      <th>obec</th>\n",
       "      <th>okres</th>\n",
       "    </tr>\n",
       "  </thead>\n",
       "  <tbody>\n",
       "    <tr>\n",
       "      <th>15</th>\n",
       "      <td>Dolní Kralovice</td>\n",
       "      <td>Benešov</td>\n",
       "    </tr>\n",
       "    <tr>\n",
       "      <th>57</th>\n",
       "      <td>Bukovany</td>\n",
       "      <td>Benešov</td>\n",
       "    </tr>\n",
       "    <tr>\n",
       "      <th>63</th>\n",
       "      <td>Čechtice</td>\n",
       "      <td>Benešov</td>\n",
       "    </tr>\n",
       "    <tr>\n",
       "      <th>52</th>\n",
       "      <td>Benešov</td>\n",
       "      <td>Benešov</td>\n",
       "    </tr>\n",
       "    <tr>\n",
       "      <th>64</th>\n",
       "      <td>Čerčany</td>\n",
       "      <td>Benešov</td>\n",
       "    </tr>\n",
       "  </tbody>\n",
       "</table>\n",
       "</div>"
      ],
      "text/plain": [
       "               obec    okres\n",
       "15  Dolní Kralovice  Benešov\n",
       "57         Bukovany  Benešov\n",
       "63         Čechtice  Benešov\n",
       "52          Benešov  Benešov\n",
       "64          Čerčany  Benešov"
      ]
     },
     "execution_count": 38,
     "metadata": {},
     "output_type": "execute_result"
    }
   ],
   "source": [
    "grouped = df.sample(n=15).groupby('okres')\n",
    "grouped.get_group('Benešov')"
   ]
  },
  {
   "cell_type": "markdown",
   "metadata": {},
   "source": [
    "__array__"
   ]
  },
  {
   "cell_type": "code",
   "execution_count": 28,
   "metadata": {},
   "outputs": [
    {
     "data": {
      "text/plain": [
       "array([['Červený Újezd', 'Benešov'],\n",
       "       ['Český Šternberk', 'Benešov'],\n",
       "       ['Čtyřkoly', 'Benešov'],\n",
       "       ['Dolní Kralovice', 'Benešov'],\n",
       "       ['Benešov', 'Benešov'],\n",
       "       ['Bernartice', 'Benešov'],\n",
       "       ['Bílkovice', 'Benešov'],\n",
       "       ['Blažejovice', 'Benešov'],\n",
       "       ['Borovnice', 'Benešov'],\n",
       "       ['Bukovany', 'Benešov'],\n",
       "       ['Bystřice', 'Benešov'],\n",
       "       ['Ctiboř', 'Benešov'],\n",
       "       ['Čakov', 'Benešov'],\n",
       "       ['Čechtice', 'Benešov'],\n",
       "       ['Čerčany', 'Benešov'],\n",
       "       ['Děkanovice', 'Benešov'],\n",
       "       ['Divišov', 'Benešov']], dtype=object)"
      ]
     },
     "execution_count": 28,
     "metadata": {},
     "output_type": "execute_result"
    }
   ],
   "source": [
    "grouped.get_group('Benešov').values"
   ]
  },
  {
   "cell_type": "markdown",
   "metadata": {},
   "source": [
    "__list__"
   ]
  },
  {
   "cell_type": "code",
   "execution_count": 34,
   "metadata": {},
   "outputs": [
    {
     "data": {
      "text/plain": [
       "[['Červený Újezd', 'Benešov'],\n",
       " ['Český Šternberk', 'Benešov'],\n",
       " ['Čtyřkoly', 'Benešov'],\n",
       " ['Dolní Kralovice', 'Benešov'],\n",
       " ['Benešov', 'Benešov'],\n",
       " ['Bernartice', 'Benešov'],\n",
       " ['Bílkovice', 'Benešov'],\n",
       " ['Blažejovice', 'Benešov'],\n",
       " ['Borovnice', 'Benešov'],\n",
       " ['Bukovany', 'Benešov'],\n",
       " ['Bystřice', 'Benešov'],\n",
       " ['Ctiboř', 'Benešov'],\n",
       " ['Čakov', 'Benešov'],\n",
       " ['Čechtice', 'Benešov'],\n",
       " ['Čerčany', 'Benešov'],\n",
       " ['Děkanovice', 'Benešov'],\n",
       " ['Divišov', 'Benešov']]"
      ]
     },
     "execution_count": 34,
     "metadata": {},
     "output_type": "execute_result"
    }
   ],
   "source": [
    "grouped.get_group('Benešov').values.tolist()"
   ]
  },
  {
   "cell_type": "code",
   "execution_count": 44,
   "metadata": {},
   "outputs": [
    {
     "name": "stdout",
     "output_type": "stream",
     "text": [
      "Hořice Jičín\n",
      "<class 'int'>\n",
      "Hořovice Beroun\n",
      "<class 'int'>\n",
      "Hostomice Beroun\n",
      "<class 'int'>\n",
      "Hředle Beroun\n",
      "<class 'int'>\n",
      "Hudlice Beroun\n",
      "<class 'int'>\n",
      "Cholenice Jičín\n",
      "<class 'int'>\n",
      "Chomutice Jičín\n",
      "<class 'int'>\n",
      "Choteč Jičín\n",
      "<class 'int'>\n",
      "Chyjice Jičín\n",
      "<class 'int'>\n",
      "Jeřice Jičín\n",
      "<class 'int'>\n",
      "Jičín Jičín\n",
      "<class 'int'>\n",
      "Jičíněves Jičín\n",
      "<class 'int'>\n",
      "Červený Újezd Benešov\n",
      "<class 'int'>\n",
      "Český Šternberk Benešov\n",
      "<class 'int'>\n",
      "Čtyřkoly Benešov\n",
      "<class 'int'>\n",
      "Dolní Kralovice Benešov\n",
      "<class 'int'>\n",
      "Broumy Beroun\n",
      "<class 'int'>\n",
      "Březová Beroun\n",
      "<class 'int'>\n",
      "Bubovice Beroun\n",
      "<class 'int'>\n",
      "Bykoš Beroun\n",
      "<class 'int'>\n",
      "Bzová Beroun\n",
      "<class 'int'>\n",
      "Cerhovice Beroun\n",
      "<class 'int'>\n",
      "Drozdov Beroun\n",
      "<class 'int'>\n",
      "Felbabka Beroun\n",
      "<class 'int'>\n",
      "Hlásná Třebaň Beroun\n",
      "<class 'int'>\n",
      "Hvozdec Beroun\n",
      "<class 'int'>\n",
      "Hýskov Beroun\n",
      "<class 'int'>\n",
      "Chaloupky Beroun\n",
      "<class 'int'>\n",
      "Chlustina Beroun\n",
      "<class 'int'>\n",
      "Chodouň Beroun\n",
      "<class 'int'>\n",
      "Chrustenice Beroun\n",
      "<class 'int'>\n",
      "Chyňava Beroun\n",
      "<class 'int'>\n",
      "Komárov Beroun\n",
      "<class 'int'>\n",
      "Boháňka Jičín\n",
      "<class 'int'>\n",
      "Borek Jičín\n",
      "<class 'int'>\n",
      "Brada-Rybníček Jičín\n",
      "<class 'int'>\n",
      "Březina Jičín\n",
      "<class 'int'>\n",
      "Bříšťany Jičín\n",
      "<class 'int'>\n",
      "Budčeves Jičín\n",
      "<class 'int'>\n",
      "Bukvice Jičín\n",
      "<class 'int'>\n",
      "Butoves Jičín\n",
      "<class 'int'>\n",
      "Bystřice Jičín\n",
      "<class 'int'>\n",
      "Cerekvice nad Bystřicí Jičín\n",
      "<class 'int'>\n",
      "Červená Třemešná Jičín\n",
      "<class 'int'>\n",
      "Češov Jičín\n",
      "<class 'int'>\n",
      "Dětenice Jičín\n",
      "<class 'int'>\n",
      "Dílce Jičín\n",
      "<class 'int'>\n",
      "Dobrá Voda u Hořic Jičín\n",
      "<class 'int'>\n",
      "Dolní Lochov Jičín\n",
      "<class 'int'>\n",
      "Dřevěnice Jičín\n",
      "<class 'int'>\n",
      "Holín Jičín\n",
      "<class 'int'>\n",
      "Holovousy Jičín\n",
      "<class 'int'>\n",
      "Benešov Benešov\n",
      "<class 'int'>\n",
      "Bernartice Benešov\n",
      "<class 'int'>\n",
      "Bílkovice Benešov\n",
      "<class 'int'>\n",
      "Blažejovice Benešov\n",
      "<class 'int'>\n",
      "Borovnice Benešov\n",
      "<class 'int'>\n",
      "Bukovany Benešov\n",
      "<class 'int'>\n",
      "Bystřice Benešov\n",
      "<class 'int'>\n",
      "Ctiboř Benešov\n",
      "<class 'int'>\n",
      "Jivina Beroun\n",
      "<class 'int'>\n",
      "Karlštejn Beroun\n",
      "<class 'int'>\n",
      "Čakov Benešov\n",
      "<class 'int'>\n",
      "Čechtice Benešov\n",
      "<class 'int'>\n",
      "Čerčany Benešov\n",
      "<class 'int'>\n",
      "Jinolice Jičín\n",
      "<class 'int'>\n",
      "Kacákova Lhota Jičín\n",
      "<class 'int'>\n",
      "Kbelnice Jičín\n",
      "<class 'int'>\n",
      "Kněžnice Jičín\n",
      "<class 'int'>\n",
      "Konecchlumí Jičín\n",
      "<class 'int'>\n",
      "Kopidlno Jičín\n",
      "<class 'int'>\n",
      "Kostelec Jičín\n",
      "<class 'int'>\n",
      "Kovač Jičín\n",
      "<class 'int'>\n",
      "Kozojedy Jičín\n",
      "<class 'int'>\n",
      "Kyje Jičín\n",
      "<class 'int'>\n",
      "Lázně Bělohrad Jičín\n",
      "<class 'int'>\n",
      "Libáň Jičín\n",
      "<class 'int'>\n",
      "Děkanovice Benešov\n",
      "<class 'int'>\n",
      "Divišov Benešov\n",
      "<class 'int'>\n"
     ]
    }
   ],
   "source": [
    "for i in range(0, len(df)):\n",
    "    print(df.iloc[i]['obec'], df.iloc[i]['okres'])\n",
    "    print(type(i))"
   ]
  },
  {
   "cell_type": "code",
   "execution_count": null,
   "metadata": {},
   "outputs": [],
   "source": []
  }
 ],
 "metadata": {
  "kernelspec": {
   "display_name": "Python 3",
   "language": "python",
   "name": "python3"
  },
  "language_info": {
   "codemirror_mode": {
    "name": "ipython",
    "version": 3
   },
   "file_extension": ".py",
   "mimetype": "text/x-python",
   "name": "python",
   "nbconvert_exporter": "python",
   "pygments_lexer": "ipython3",
   "version": "3.7.6"
  },
  "varInspector": {
   "cols": {
    "lenName": 16,
    "lenType": 16,
    "lenVar": 40
   },
   "kernels_config": {
    "python": {
     "delete_cmd_postfix": "",
     "delete_cmd_prefix": "del ",
     "library": "var_list.py",
     "varRefreshCmd": "print(var_dic_list())"
    },
    "r": {
     "delete_cmd_postfix": ") ",
     "delete_cmd_prefix": "rm(",
     "library": "var_list.r",
     "varRefreshCmd": "cat(var_dic_list()) "
    }
   },
   "types_to_exclude": [
    "module",
    "function",
    "builtin_function_or_method",
    "instance",
    "_Feature"
   ],
   "window_display": false
  }
 },
 "nbformat": 4,
 "nbformat_minor": 4
}
